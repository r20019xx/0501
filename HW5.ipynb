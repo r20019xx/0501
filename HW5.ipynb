{
 "cells": [
  {
   "cell_type": "code",
   "execution_count": 94,
   "metadata": {},
   "outputs": [
    {
     "name": "stdout",
     "output_type": "stream",
     "text": [
      "add\n",
      "4\n",
      "5\n"
     ]
    },
    {
     "data": {
      "text/plain": [
       "9"
      ]
     },
     "execution_count": 94,
     "metadata": {},
     "output_type": "execute_result"
    }
   ],
   "source": [
    "def add(x,y):\n",
    "    return int(x)+int(y)\n",
    "def mns(x,y):\n",
    "    return int(x)-int(y)\n",
    "def tim(x,y):\n",
    "    return int(x)*int(y)\n",
    "def sep(x,y):\n",
    "    return int(x)/int(y)\n",
    "def run_cal(args,x,y):\n",
    "    return args(x,y)\n",
    "arg = input()\n",
    "if arg == 'add':\n",
    "    arg = add\n",
    "elif arg == 'mns':\n",
    "    arg = mns\n",
    "elif arg == 'tim':\n",
    "    arg = tim\n",
    "elif arg == 'sep':\n",
    "    arg = sep\n",
    "run_cal(arg,input(),input())"
   ]
  },
  {
   "cell_type": "code",
   "execution_count": null,
   "metadata": {},
   "outputs": [],
   "source": []
  }
 ],
 "metadata": {
  "kernelspec": {
   "display_name": "Python 3",
   "language": "python",
   "name": "python3"
  },
  "language_info": {
   "codemirror_mode": {
    "name": "ipython",
    "version": 3
   },
   "file_extension": ".py",
   "mimetype": "text/x-python",
   "name": "python",
   "nbconvert_exporter": "python",
   "pygments_lexer": "ipython3",
   "version": "3.7.3"
  }
 },
 "nbformat": 4,
 "nbformat_minor": 2
}
