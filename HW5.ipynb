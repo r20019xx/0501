{
 "cells": [
  {
   "cell_type": "code",
   "execution_count": 69,
   "metadata": {},
   "outputs": [
    {
     "name": "stdout",
     "output_type": "stream",
     "text": [
      "3\n",
      "+\n",
      "5\n",
      "8\n"
     ]
    }
   ],
   "source": [
    "def add(x,y):\n",
    "    return int(x)+int(y)\n",
    "def mns(x,y):\n",
    "    return int(x)-int(y)\n",
    "def tim(x,y):\n",
    "    return int(x)*int(y)\n",
    "def sep(x,y):\n",
    "    return int(x)/int(y)\n",
    "def run_cal(x,args,y):\n",
    "    if args==\"+\":\n",
    "        print(add(x,y))\n",
    "    elif args==\"-\":\n",
    "        print(mns(x,y))\n",
    "    elif args==\"*\":\n",
    "        print(tim(x,y))\n",
    "    elif args==\"/\":\n",
    "        print(sep(x,y))\n",
    "run_cal(input(),input(),input())"
   ]
  },
  {
   "cell_type": "code",
   "execution_count": null,
   "metadata": {},
   "outputs": [],
   "source": []
  }
 ],
 "metadata": {
  "kernelspec": {
   "display_name": "Python 3",
   "language": "python",
   "name": "python3"
  },
  "language_info": {
   "codemirror_mode": {
    "name": "ipython",
    "version": 3
   },
   "file_extension": ".py",
   "mimetype": "text/x-python",
   "name": "python",
   "nbconvert_exporter": "python",
   "pygments_lexer": "ipython3",
   "version": "3.7.3"
  }
 },
 "nbformat": 4,
 "nbformat_minor": 2
}
